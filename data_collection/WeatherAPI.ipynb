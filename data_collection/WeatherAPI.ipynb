{
  "nbformat": 4,
  "nbformat_minor": 0,
  "metadata": {
    "colab": {
      "provenance": [],
      "authorship_tag": "ABX9TyOrOhwMXRoxEa+B61N4iUpF",
      "include_colab_link": true
    },
    "kernelspec": {
      "name": "python3",
      "display_name": "Python 3"
    },
    "language_info": {
      "name": "python"
    }
  },
  "cells": [
    {
      "cell_type": "markdown",
      "metadata": {
        "id": "view-in-github",
        "colab_type": "text"
      },
      "source": [
        "<a href=\"https://colab.research.google.com/github/DmitryPavlyuk/project2024/blob/APIconnector/data_collection/WeatherAPI.ipynb\" target=\"_parent\"><img src=\"https://colab.research.google.com/assets/colab-badge.svg\" alt=\"Open In Colab\"/></a>"
      ]
    },
    {
      "cell_type": "code",
      "execution_count": 4,
      "metadata": {
        "id": "rzstu8Mbkfu8"
      },
      "outputs": [],
      "source": [
        "import requests\n",
        "import pandas as pd"
      ]
    },
    {
      "cell_type": "code",
      "source": [
        "\n",
        "# URLs for the 3 cities\n",
        "urls = {\n",
        "    'Riga': 'https://api.open-meteo.com/v1/forecast?latitude=56.94&longitude=24.10&hourly=temperature_2m,relative_humidity_2m',\n",
        "    'Tallinn': 'https://api.open-meteo.com/v1/forecast?latitude=59.43&longitude=24.75&hourly=temperature_2m,relative_humidity_2m',\n",
        "    'Vilnius': 'https://api.open-meteo.com/v1/forecast?latitude=54.68&longitude=25.27&hourly=temperature_2m,relative_humidity_2m'\n",
        "}"
      ],
      "metadata": {
        "id": "3bmyzsh_kh0L"
      },
      "execution_count": 5,
      "outputs": []
    },
    {
      "cell_type": "code",
      "source": [
        "# Function to fetch data and save to CSV\n",
        "def fetch_and_save_data(city, url):\n",
        "    response = requests.get(url)\n",
        "    data = response.json()\n",
        "\n",
        "    # Extract hourly time and temperature_2m and relative_humidity_2m\n",
        "    hourly_data = data['hourly']\n",
        "    df = pd.DataFrame({\n",
        "        'time': hourly_data['time'],\n",
        "        'temperature': hourly_data['temperature_2m'],\n",
        "        'humidity': hourly_data['relative_humidity_2m']\n",
        "    })\n",
        "\n",
        "    # Save the dataframe to CSV\n",
        "    df.to_csv(f'{city}_weather_data.csv', index=False)\n",
        "    print(f\"Data for {city} saved to {city}_weather_data.csv\")\n",
        "\n",
        "# Fetch and save data for each city\n",
        "for city, url in urls.items():\n",
        "    fetch_and_save_data(city, url)"
      ],
      "metadata": {
        "colab": {
          "base_uri": "https://localhost:8080/"
        },
        "id": "jOOZpfP8kjPC",
        "outputId": "b83d9622-986d-49fb-c999-d816770ef071"
      },
      "execution_count": 8,
      "outputs": [
        {
          "output_type": "stream",
          "name": "stdout",
          "text": [
            "Data for Riga saved to Riga_weather_data.csv\n",
            "Data for Tallinn saved to Tallinn_weather_data.csv\n",
            "Data for Vilnius saved to Vilnius_weather_data.csv\n"
          ]
        }
      ]
    },
    {
      "cell_type": "code",
      "source": [
        "# This part for Gonzalo and Ali team\n",
        "\n",
        "# Save the dataframe to SQLite\n",
        "    df.to_sql(f'{city}_weather', conn, if_exists='replace', index=False)\n",
        "    print(f\"Data for {city} saved to SQLite database.\")\n",
        "\n",
        "# Set up SQLite connection\n",
        "conn = sqlite3.connect('weather_data.db')\n",
        "\n",
        "# Fetch and save data for each city\n",
        "for city, url in urls.items():\n",
        "    fetch_and_save_data(city, url, conn)\n",
        "\n",
        "# Close SQLite connection\n",
        "conn.close()"
      ],
      "metadata": {
        "id": "UF46WhqBowZU"
      },
      "execution_count": null,
      "outputs": []
    },
    {
      "cell_type": "code",
      "source": [
        "#last update from DG"
      ],
      "metadata": {
        "id": "fzsC4X76s2kF"
      },
      "execution_count": null,
      "outputs": []
    }
  ]
}