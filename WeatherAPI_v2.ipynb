{
  "nbformat": 4,
  "nbformat_minor": 0,
  "metadata": {
    "colab": {
      "provenance": [],
      "toc_visible": true,
      "authorship_tag": "ABX9TyPe4AcQL/dhMyqsw6o6694q",
      "include_colab_link": true
    },
    "kernelspec": {
      "name": "python3",
      "display_name": "Python 3"
    },
    "language_info": {
      "name": "python"
    }
  },
  "cells": [
    {
      "cell_type": "markdown",
      "metadata": {
        "id": "view-in-github",
        "colab_type": "text"
      },
      "source": [
        "<a href=\"https://colab.research.google.com/github/DmitryPavlyuk/project2024/blob/APIconnector/WeatherAPI_v2.ipynb\" target=\"_parent\"><img src=\"https://colab.research.google.com/assets/colab-badge.svg\" alt=\"Open In Colab\"/></a>"
      ]
    },
    {
      "cell_type": "code",
      "execution_count": 3,
      "metadata": {
        "colab": {
          "base_uri": "https://localhost:8080/"
        },
        "id": "rSJajwrdy2_K",
        "outputId": "9b96c26f-e424-43d0-c352-c5ec3664be09"
      },
      "outputs": [
        {
          "output_type": "stream",
          "name": "stdout",
          "text": [
            "Data for Riga saved to Riga_weather_data.csv\n",
            "Data for Riga saved to SQLite database.\n",
            "Data for Tallinn saved to Tallinn_weather_data.csv\n",
            "Data for Tallinn saved to SQLite database.\n",
            "Data for Vilnius saved to Vilnius_weather_data.csv\n",
            "Data for Vilnius saved to SQLite database.\n"
          ]
        }
      ],
      "source": [
        "import requests\n",
        "import pandas as pd\n",
        "import sqlite3\n",
        "\n",
        "# URLs for the 3 cities\n",
        "urls = {\n",
        "    'Riga': 'https://api.open-meteo.com/v1/forecast?latitude=56.94&longitude=24.10&hourly=temperature_2m,relative_humidity_2m',\n",
        "    'Tallinn': 'https://api.open-meteo.com/v1/forecast?latitude=59.43&longitude=24.75&hourly=temperature_2m,relative_humidity_2m',\n",
        "    'Vilnius': 'https://api.open-meteo.com/v1/forecast?latitude=54.68&longitude=25.27&hourly=temperature_2m,relative_humidity_2m'\n",
        "}\n",
        "\n",
        "# Function to fetch data and save to CSV and SQLite\n",
        "def fetch_and_save_data(city, url, conn):\n",
        "    response = requests.get(url)\n",
        "    data = response.json()\n",
        "\n",
        "    # Extract hourly time and temperature_2m and relative_humidity_2m\n",
        "    hourly_data = data['hourly']\n",
        "    df = pd.DataFrame({\n",
        "        'time': hourly_data['time'],\n",
        "        'temperature': hourly_data['temperature_2m'],\n",
        "        'humidity': hourly_data['relative_humidity_2m']\n",
        "    })\n",
        "\n",
        "    # Save the dataframe to CSV\n",
        "    df.to_csv(f'{city}_weather_data.csv', index=False)\n",
        "    print(f\"Data for {city} saved to {city}_weather_data.csv\")\n",
        "\n",
        "    # Save the dataframe to SQLite\n",
        "    df.to_sql(f'{city}_weather', conn, if_exists='replace', index=False)\n",
        "    print(f\"Data for {city} saved to SQLite database.\")\n",
        "\n",
        "# Set up SQLite connection\n",
        "conn = sqlite3.connect('weather_data.db')\n",
        "\n",
        "# Fetch and save data for each city\n",
        "for city, url in urls.items():\n",
        "    fetch_and_save_data(city, url, conn)\n",
        "\n",
        "# Close SQLite connection\n",
        "conn.close()\n"
      ]
    },
    {
      "cell_type": "code",
      "source": [
        "# Check data integrity in sqllite\n",
        "# Reopen connection to read the data\n",
        "conn = sqlite3.connect('weather_data.db')\n",
        "\n",
        "# SQL queries to check the data\n",
        "cities = ['Riga', 'Tallinn', 'Vilnius']\n",
        "for city in cities:\n",
        "    query = f\"SELECT * FROM {city}_weather LIMIT 5\"\n",
        "    df = pd.read_sql_query(query, conn)\n",
        "    print(f\"Displaying the first 5 rows of {city}'s weather data:\")\n",
        "    print(df)\n",
        "\n",
        "# Close SQLite connection\n",
        "conn.close()"
      ],
      "metadata": {
        "id": "evb8PqXn5KCI",
        "colab": {
          "base_uri": "https://localhost:8080/"
        },
        "outputId": "867f47ba-3774-41a5-be99-f4194daf440a"
      },
      "execution_count": 5,
      "outputs": [
        {
          "output_type": "stream",
          "name": "stdout",
          "text": [
            "Displaying the first 5 rows of Riga's weather data:\n",
            "               time  temperature  humidity\n",
            "0  2024-09-21T00:00         13.8        91\n",
            "1  2024-09-21T01:00         13.3        92\n",
            "2  2024-09-21T02:00         13.1        93\n",
            "3  2024-09-21T03:00         12.9        97\n",
            "4  2024-09-21T04:00         12.5        98\n",
            "Displaying the first 5 rows of Tallinn's weather data:\n",
            "               time  temperature  humidity\n",
            "0  2024-09-21T00:00         13.6        94\n",
            "1  2024-09-21T01:00         14.1        84\n",
            "2  2024-09-21T02:00         13.8        77\n",
            "3  2024-09-21T03:00         13.4        79\n",
            "4  2024-09-21T04:00         12.8        81\n",
            "Displaying the first 5 rows of Vilnius's weather data:\n",
            "               time  temperature  humidity\n",
            "0  2024-09-21T00:00         14.1        73\n",
            "1  2024-09-21T01:00         14.0        71\n",
            "2  2024-09-21T02:00         13.8        70\n",
            "3  2024-09-21T03:00         13.4        70\n",
            "4  2024-09-21T04:00         13.4        70\n"
          ]
        }
      ]
    }
  ]
}