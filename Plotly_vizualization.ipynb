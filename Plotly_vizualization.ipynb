{
  "nbformat": 4,
  "nbformat_minor": 0,
  "metadata": {
    "colab": {
      "provenance": [],
      "authorship_tag": "ABX9TyN27PVAw+KdM8KQH6vDUUVN",
      "include_colab_link": true
    },
    "kernelspec": {
      "name": "python3",
      "display_name": "Python 3"
    },
    "language_info": {
      "name": "python"
    }
  },
  "cells": [
    {
      "cell_type": "markdown",
      "metadata": {
        "id": "view-in-github",
        "colab_type": "text"
      },
      "source": [
        "<a href=\"https://colab.research.google.com/github/DmitryPavlyuk/project2024/blob/AgiFers-patch-1/Plotly_vizualization.ipynb\" target=\"_parent\"><img src=\"https://colab.research.google.com/assets/colab-badge.svg\" alt=\"Open In Colab\"/></a>"
      ]
    },
    {
      "cell_type": "code",
      "execution_count": 4,
      "metadata": {
        "colab": {
          "base_uri": "https://localhost:8080/",
          "height": 211
        },
        "id": "LV5jjgoMnRnK",
        "outputId": "3ea7649d-d0aa-44c2-b1f6-9e9d75bb91da"
      },
      "outputs": [
        {
          "output_type": "error",
          "ename": "NameError",
          "evalue": "name 'Dash' is not defined",
          "traceback": [
            "\u001b[0;31m---------------------------------------------------------------------------\u001b[0m",
            "\u001b[0;31mNameError\u001b[0m                                 Traceback (most recent call last)",
            "\u001b[0;32m<ipython-input-4-75497516c2f5>\u001b[0m in \u001b[0;36m<cell line: 9>\u001b[0;34m()\u001b[0m\n\u001b[1;32m      7\u001b[0m \u001b[0mdf\u001b[0m \u001b[0;34m=\u001b[0m \u001b[0mpd\u001b[0m\u001b[0;34m.\u001b[0m\u001b[0mread_csv\u001b[0m\u001b[0;34m(\u001b[0m\u001b[0;34m'https://raw.githubusercontent.com/plotly/datasets/master/gapminderDataFiveYear.csv'\u001b[0m\u001b[0;34m)\u001b[0m\u001b[0;34m\u001b[0m\u001b[0;34m\u001b[0m\u001b[0m\n\u001b[1;32m      8\u001b[0m \u001b[0;34m\u001b[0m\u001b[0m\n\u001b[0;32m----> 9\u001b[0;31m \u001b[0mapp\u001b[0m \u001b[0;34m=\u001b[0m \u001b[0mDash\u001b[0m\u001b[0;34m(\u001b[0m\u001b[0m__name__\u001b[0m\u001b[0;34m)\u001b[0m\u001b[0;34m\u001b[0m\u001b[0;34m\u001b[0m\u001b[0m\n\u001b[0m\u001b[1;32m     10\u001b[0m \u001b[0;34m\u001b[0m\u001b[0m\n\u001b[1;32m     11\u001b[0m app.layout = html.Div([\n",
            "\u001b[0;31mNameError\u001b[0m: name 'Dash' is not defined"
          ]
        }
      ],
      "source": [
        "# pip install dash pandas\n",
        "\n",
        "\n",
        "\n",
        "import sqlite3\n",
        "import pandas as pd\n",
        "import matplotlib.pyplot as plt\n",
        "\n",
        "\n",
        "# Step 1: Connect to the SQLite database\n",
        "\n",
        "conn = sqlite3.connect('your_database.db')\n",
        "\n",
        "query = \"SELECT city, temperature FROM weather_data\"\n",
        "\n",
        "#Use pandas to execute the query and store the result in a DataFrame\n",
        "df = pd.read_sql_query(query, conn)\n",
        "\n",
        "#Close the connection after fetching the data\n",
        "conn.close()\n",
        "\n",
        "# Step 5: Plot the data\n",
        "plt.figure(figsize=(10, 6))\n",
        "plt.bar(df['city'], df['temperature'], color='skyblue')\n",
        "plt.xlabel('City')\n",
        "plt.ylabel('Temperature (°C)')\n",
        "plt.title('Temperature by City')\n",
        "plt.xticks(rotation=45, ha='right')\n",
        "plt.tight_layout()\n",
        "\n",
        "# Show the plot\n",
        "plt.show()\n",
        "\n",
        "\n",
        "\n",
        "app.layout = html.Div([\n",
        "    dcc.Graph(id='graph-with-slider'),\n",
        "    dcc.Slider(\n",
        "        df['year'].min(),\n",
        "        df['year'].max(),\n",
        "        step=None,\n",
        "        value=df['year'].min(),\n",
        "        marks={str(year): str(year) for year in df['year'].unique()},\n",
        "        id='year-slider'\n",
        "    )\n",
        "])\n",
        "\n",
        "\n",
        "@app.callback(\n",
        "    Output('graph-with-slider', 'figure'),\n",
        "    Input('year-slider', 'value'))\n",
        "def update_figure(selected_year):\n",
        "    filtered_df = df[df.year == selected_year]\n",
        "\n",
        "    fig = px.scatter(filtered_df, x=\"gdpPercap\", y=\"lifeExp\",\n",
        "                     size=\"pop\", color=\"continent\", hover_name=\"country\",\n",
        "                     log_x=True, size_max=55)\n",
        "\n",
        "    return fig\n",
        "\n",
        "\n",
        "if __name__ == '__main__':\n",
        "    app.run_server(debug=True)"
      ]
    }
  ]
}